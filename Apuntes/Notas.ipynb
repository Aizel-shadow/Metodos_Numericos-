{
 "cells": [
  {
   "cell_type": "markdown",
   "id": "afbd76ec",
   "metadata": {},
   "source": [
    "# Markdown\n",
    "## subtitulo1\n",
    "## subtitulo 2\n",
    "\n",
    "\n",
    "* documentacion en github\n",
    "* Ecuaciones matematicas\n",
    "    *En notebook de python\n",
    "\n",
    "# Redacciones de ecuaciones en Markdown\n",
    "comando para prevaluizar: ctrl + shift + v\n",
    "\n",
    "#   programa de Hola mundo\n",
    "´´´ Python\n",
    "\n",
    "    print(\"Hola mundo\")\n",
    "´´´\n",
    "\n",
    "# redaccion de ecuaciones \n",
    "comando para previsualizar: crtl + shift + v\n",
    "\n",
    "# Ejemplo\n",
    "\n",
    "\n",
    "\n",
    "$ x_1 = \\frac {-b + \\sqrt{b^2-4ac}}{2a}$\n",
    "\n",
    "# escribir la ecuacion de de navier stokes\n",
    "\n",
    "$ \\pi , \\alpha , \\beta, \\hat{y} , \\leftarrow$\n",
    "\n",
    "$\\rho(\\frac{\\partial\\hat{v}})$\n",
    "\n"
   ]
  },
  {
   "cell_type": "markdown",
   "id": "26450419",
   "metadata": {},
   "source": [
    "## TALLER"
   ]
  },
  {
   "cell_type": "markdown",
   "id": "cc4451e8",
   "metadata": {},
   "source": [
    "## EJERCICIO 1 \n",
    "La sumatoria $1 + 1/2 +1/4 ...$ tal que el error absoluto $e_{abs} < 10^{-1}$."
   ]
  },
  {
   "cell_type": "code",
   "execution_count": 8,
   "id": "233284b4",
   "metadata": {},
   "outputs": [
    {
     "name": "stdout",
     "output_type": "stream",
     "text": [
      "terminos: 5, Suma: 1.937500, Error: 0.062500\n"
     ]
    }
   ],
   "source": [
    "suma = 0\n",
    "n = 0\n",
    "while abs(2 - suma) >= 0.1:\n",
    "    suma += (1/2)**n\n",
    "    n += 1\n",
    "print(f\"terminos: {n}, Suma: {suma:.6f}, Error: {abs(2-suma):.6f}\")"
   ]
  }
 ],
 "metadata": {
  "kernelspec": {
   "display_name": "Python 3",
   "language": "python",
   "name": "python3"
  },
  "language_info": {
   "codemirror_mode": {
    "name": "ipython",
    "version": 3
   },
   "file_extension": ".py",
   "mimetype": "text/x-python",
   "name": "python",
   "nbconvert_exporter": "python",
   "pygments_lexer": "ipython3",
   "version": "3.13.7"
  }
 },
 "nbformat": 4,
 "nbformat_minor": 5
}
