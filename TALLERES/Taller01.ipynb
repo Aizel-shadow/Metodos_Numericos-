{
 "cells": [
  {
   "cell_type": "markdown",
   "id": "325e4ace",
   "metadata": {},
   "source": [
    "# **MÉTODOS NUMÉRICOS 2025-B**\n",
    "\n",
    "\n",
    "\n",
    "### ***TALLER No. 1***      \n",
    "\n",
    "\n",
    "Nombre: Alegria Farinango \n",
    "\n",
    "\n",
    "link repositorio: [Ejercicios/Taller01.ipynb](https://github.com/Aizel-shadow/Metodos_Numericos-/blob/main/Ejercicios/Taller01.ipynb) \n",
    "\n",
    "\n",
    "---------------------------------------------------------------------------------------\n",
    "\n",
    "## EJERCICIO \n",
    "***Escribir en notación matemática de la ecuación de Navier Stokes***\n",
    "\n",
    "$$\n",
    "\\rho \\left( \n",
    "\\frac{\\partial \\mathbf{u}}{\\partial t} \n",
    "+ (\\mathbf{u} \\cdot \\nabla)\\mathbf{u}\n",
    "\\right)\n",
    "= -\\nabla p + \\mu \\nabla^2 \\mathbf{u} + \\mathbf{f}\n",
    "$$\n",
    "\n",
    "\n",
    "\n",
    "---------------------------------------------------------------------------------------\n",
    "\n",
    "## EJERCICIO 1.\n",
    "***La sumatoria $1 + 1/2 + 1/4 +1/8 ... $ tal que el error absoluto $e_{abs} < 10^{-1}$.***"
   ]
  },
  {
   "cell_type": "code",
   "execution_count": 71,
   "id": "d2dcba90",
   "metadata": {},
   "outputs": [
    {
     "name": "stdout",
     "output_type": "stream",
     "text": [
      "Términos: 5, Suma: 1.937500, Error: 0.062500\n"
     ]
    }
   ],
   "source": [
    "suma = 0\n",
    "n = 0\n",
    "while abs(2 - suma) >= 0.1:\n",
    "    suma += (1/2)**n\n",
    "    n += 1\n",
    "print(f\"Términos: {n}, Suma: {suma:.6f}, Error: {abs(2-suma):.6f}\") "
   ]
  },
  {
   "cell_type": "markdown",
   "id": "9a6214e6",
   "metadata": {},
   "source": [
    "1. Modifique el Algoritmo 02 y determine el número de comparaciones realizadas al ordenar la serie 5,4,3,2,1 "
   ]
  },
  {
   "cell_type": "code",
   "execution_count": null,
   "id": "9b0059d5",
   "metadata": {},
   "outputs": [],
   "source": []
  },
  {
   "cell_type": "code",
   "execution_count": 72,
   "id": "1bc3da5b",
   "metadata": {},
   "outputs": [
    {
     "name": "stdout",
     "output_type": "stream",
     "text": [
      "Termino 1: 1.0, Suma parcial: 1.0\n",
      "Suma 1.0, Numero de terminos 1, Error absouluto : 1.0\n",
      "Termino 2: 0.5, Suma parcial: 1.5\n",
      "Suma 1.5, Numero de terminos 2, Error absouluto : 0.5\n",
      "Termino 3: 0.25, Suma parcial: 1.75\n",
      "Suma 1.75, Numero de terminos 3, Error absouluto : 0.25\n",
      "Termino 4: 0.125, Suma parcial: 1.875\n",
      "Suma 1.875, Numero de terminos 4, Error absouluto : 0.125\n",
      "Termino 5: 0.0625, Suma parcial: 1.9375\n"
     ]
    }
   ],
   "source": [
    "v_real = 2 \n",
    "S = 0\n",
    "n = 0 \n",
    "while True: \n",
    "    i = 1 / (2**n)\n",
    "    S += i \n",
    "    n += 1\n",
    "    print(f\"Termino {n}: {i}, Suma parcial: {S}\")\n",
    "    error_abs = abs(v_real - S)\n",
    "    if error_abs < 10**-1: \n",
    "        break\n",
    "    print(f\"Suma {S}, Numero de terminos {n}, Error absouluto : {error_abs}\") "
   ]
  },
  {
   "cell_type": "markdown",
   "id": "517a534f",
   "metadata": {},
   "source": [
    "## EJERCICIO 2. (Bubble sort)\n",
    "![Ejer2](1.png)\n",
    "\n",
    "\n",
    "### Corrida de escritorio\n",
    "$v_1=[3, 2, 5, 8, 4, 1]$\n",
    "\n",
    "| i | Vector |\n",
    "| -- | -- |\n",
    "| 0 | $ [3, 2, 5, 8, 4, 1] $ |\n",
    "| 1 | $ [3, 2, 5, 4, 1, 8] $|\n",
    "| 2 | $ [3, 2, 4, 1, 5, 8] $|\n",
    "| 3 | $ [3, 2, 1, 4, 5, 8] $|\n",
    "...\n",
    "\n",
    "Resultado final:\n",
    "\n",
    "$v_{sorted} = [1,2,3,4,5,8]$\n",
    "\n",
    "Casos de prueba:\n",
    "* $v_2=[-1, 0, 4, 5, 6, 7]$\n",
    "* $v_3$ 100_000 número aleatorios entre -200 y 145. "
   ]
  },
  {
   "cell_type": "code",
   "execution_count": 73,
   "id": "a1b38da9",
   "metadata": {},
   "outputs": [
    {
     "name": "stdout",
     "output_type": "stream",
     "text": [
      "Caso 1: [3, 2, 5, 8, 4, 1]\n",
      "Ordenado: [1, 2, 3, 4, 5, 8]\n",
      "\n",
      "Caso 2: [-1, 0, 4, 5, 6, 7]\n",
      "Ordenado: [-1, 0, 4, 5, 6, 7]\n",
      "\n",
      "Caso 3: 1,000 num aleatorios\n",
      "Primeros 10: [-88, -40, -80, 44, -122, 140, 132, 65, 88, -172]\n",
      "Ordenados: [-200, -200, -199, -198, -198, -198, -197, -197, -197, -197]\n"
     ]
    }
   ],
   "source": [
    "import random\n",
    "\n",
    "def bubble_sort(a):\n",
    "    n = len(a)\n",
    "    for i in range(n):\n",
    "        swapped = False\n",
    "        for j in range(1, n - i):\n",
    "            if a[j] < a[j-1]:\n",
    "                a[j], a[j-1] = a[j-1], a[j]\n",
    "                swapped = True\n",
    "        if not swapped:\n",
    "            break\n",
    "\n",
    "# Caso 1\n",
    "v1 = [3, 2, 5, 8, 4, 1]\n",
    "print(\"Caso 1:\", v1)\n",
    "bubble_sort(v1)\n",
    "print(\"Ordenado:\", v1)\n",
    "\n",
    "# Caso 2\n",
    "v2 = [-1, 0, 4, 5, 6, 7]\n",
    "print(\"\\nCaso 2:\", v2)\n",
    "bubble_sort(v2)\n",
    "print(\"Ordenado:\", v2)\n",
    "\n",
    "# Caso 3 (reducido a 1000 elementos para que sea rápido)\n",
    "v3 = [random.randint(-200, 145) for _ in range(1000)]\n",
    "print(\"\\nCaso 3: 1,000 num aleatorios\")\n",
    "print(\"Primeros 10:\", v3[:10])\n",
    "bubble_sort(v3)\n",
    "print(\"Ordenados:\", v3[:10])\n"
   ]
  },
  {
   "cell_type": "markdown",
   "id": "c2dad405",
   "metadata": {},
   "source": [
    "1. Modifique el Algoritmo 02 y determine el número de comparaciones realizadas al ordenar la serie 5,4,3,2,1 "
   ]
  },
  {
   "cell_type": "code",
   "execution_count": 74,
   "id": "b4e8e73b",
   "metadata": {},
   "outputs": [
    {
     "name": "stdout",
     "output_type": "stream",
     "text": [
      "SERIE SOLICITADA: [5, 4, 3, 2, 1]\n",
      "Array original: [5, 4, 3, 2, 1]\n",
      "Array ordenado: [1, 2, 3, 4, 5]\n",
      "\n",
      "número comparaciones: 10\n",
      "número iteraciones: 5\n"
     ]
    }
   ],
   "source": [
    "import random\n",
    "\n",
    "def bubble_sort(a):\n",
    "    n = len(a)\n",
    "    comparisons = 0  \n",
    "    iterations = 0   \n",
    "    \n",
    "    for i in range(n):\n",
    "        iterations += 1\n",
    "        swapped = False\n",
    "        for j in range(1, n - i):\n",
    "            comparisons += 1  \n",
    "            if a[j] < a[j-1]:\n",
    "                a[j], a[j-1] = a[j-1], a[j]\n",
    "                swapped = True\n",
    "        if not swapped:\n",
    "            break\n",
    "    \n",
    "    return comparisons, iterations\n",
    "\n",
    "# Serie específica solicitada: [5,4,3,2,1]\n",
    "\n",
    "print(\"SERIE SOLICITADA: [5, 4, 3, 2, 1]\")\n",
    "\n",
    "v_especial = [5, 4, 3, 2, 1]\n",
    "print(\"Array original:\", v_especial)\n",
    "comps, iters = bubble_sort(v_especial)\n",
    "print(\"Array ordenado:\", v_especial)\n",
    "print(f\"\\nnúmero comparaciones: {comps}\")\n",
    "print(f\"número iteraciones: {iters}\")\n",
    "\n",
    "\n",
    "\n"
   ]
  },
  {
   "cell_type": "code",
   "execution_count": 75,
   "id": "4c7484d8",
   "metadata": {},
   "outputs": [
    {
     "name": "stdout",
     "output_type": "stream",
     "text": [
      "\n",
      "\n",
      "Caso 1: [3, 2, 5, 8, 4, 1]\n",
      "Original: [3, 2, 5, 8, 4, 1]\n",
      "Ordenado: [1, 2, 3, 4, 5, 8]\n",
      "Comparaciones: 15, Iteraciones: 6\n"
     ]
    }
   ],
   "source": [
    "# Caso 1\n",
    "print(\"\\n\\nCaso 1: [3, 2, 5, 8, 4, 1]\")\n",
    "v1 = [3, 2, 5, 8, 4, 1]\n",
    "print(\"Original:\", v1)\n",
    "comps1, iters1 = bubble_sort(v1)\n",
    "print(\"Ordenado:\", v1)\n",
    "print(f\"Comparaciones: {comps1}, Iteraciones: {iters1}\")\n"
   ]
  },
  {
   "cell_type": "code",
   "execution_count": 76,
   "id": "c4ec8e33",
   "metadata": {},
   "outputs": [
    {
     "name": "stdout",
     "output_type": "stream",
     "text": [
      "\n",
      "Caso 2: [-1, 0, 4, 5, 6, 7]\n",
      "Original: [-1, 0, 4, 5, 6, 7]\n",
      "Ordenado: [-1, 0, 4, 5, 6, 7]\n",
      "Comparaciones: 5, Iteraciones: 1\n"
     ]
    }
   ],
   "source": [
    "# Caso 2\n",
    "print(\"\\nCaso 2: [-1, 0, 4, 5, 6, 7]\")\n",
    "v2 = [-1, 0, 4, 5, 6, 7]\n",
    "print(\"Original:\", v2)\n",
    "comps2, iters2 = bubble_sort(v2)\n",
    "print(\"Ordenado:\", v2)\n",
    "print(f\"Comparaciones: {comps2}, Iteraciones: {iters2}\")"
   ]
  },
  {
   "cell_type": "code",
   "execution_count": 77,
   "id": "eab7743a",
   "metadata": {},
   "outputs": [
    {
     "name": "stdout",
     "output_type": "stream",
     "text": [
      "\n",
      "Caso 3: 1,000 números aleatorios\n",
      "Primeros 10: [-46, 95, -75, -115, -89, 132, 91, 40, 3, -112]\n",
      "Ordenados (primeros 10): [-200, -200, -200, -200, -199, -199, -199, -199, -199, -199]\n",
      "Comparaciones: 499445, Iteraciones: 989\n"
     ]
    }
   ],
   "source": [
    "# Caso 3 (reducido a 1000 elementos)\n",
    "v3 = [random.randint(-200, 145) for _ in range(1000)]\n",
    "print(\"\\nCaso 3: 1,000 números aleatorios\")\n",
    "print(\"Primeros 10:\", v3[:10])\n",
    "comps3, iters3 = bubble_sort(v3)\n",
    "print(\"Ordenados (primeros 10):\", v3[:10])\n",
    "print(f\"Comparaciones: {comps3}, Iteraciones: {iters3}\")"
   ]
  },
  {
   "cell_type": "markdown",
   "id": "4155aa0e",
   "metadata": {},
   "source": [
    "## EJERCICIO 3. (Bubble sort)\n",
    "![Ejer3](2.png) \n",
    "\n",
    "\n",
    "| n | fib(n) |\n",
    "| -- | -- |\n",
    "| 0 | 0 |\n",
    "| 1 | 1 |\n",
    "| 2 | 1 |\n",
    "| 3 | 2 |\n",
    "| 4 | 3 |\n",
    "| 5 | 5 |\n",
    "| 6 | 8 |\n",
    "| 7 | 13 |\n",
    "| 8 | 21 |\n",
    "|$n = 11 $ | 89 |\n",
    "|$n = 84 $ | 16050... |\n",
    "|$n = 1531$ | 407936... |"
   ]
  },
  {
   "cell_type": "markdown",
   "id": "ff9ceed0",
   "metadata": {},
   "source": [
    "## Graficar \n",
    "\n",
    "* El valor de la serie $fib(n)$\n",
    "* El valor del cociente \n",
    "\n",
    "    $\\phi \\rightarrow \\frac{fib(n)} {fib(n-1)} \\approx 1.618$ número áureo.\n",
    "\n",
    "\n",
    "| n | $ fib(n) /fib(n-1) $ |\n",
    "| -- | -- |\n",
    "| 2 | $1/1=1 $ |\n",
    "| 3 | $2/1 = 2$ |\n",
    "| 4 | $3/2 = 1.5$ |\n",
    "| 5 | $5/3= 1.66667$ |\n",
    "| 6 | $8/5= 1.6$ |\n",
    "| 7 | $13/8 = 1.625 $ |\n",
    "| 8 | $21/13 = 1.615 $ |\n",
    "| ... | ... |\n",
    "\n",
    "\n",
    "|$\\infty $ | $ \\frac{1 + \\sqrt{5}} {2} \\approx 1.618$ (número áureo) |\n",
    "\n",
    "***Gráfica 1 : valor de la serie $fib(n)$***"
   ]
  },
  {
   "cell_type": "code",
   "execution_count": 78,
   "id": "2c9c1119",
   "metadata": {},
   "outputs": [
    {
     "data": {
      "image/png": "[encoded data removed]",
      "text/plain": [
       "<Figure size 800x600 with 1 Axes>"
      ]
     },
     "metadata": {},
     "output_type": "display_data"
    }
   ],
   "source": [
    "import matplotlib.pyplot as plt\n",
    "\n",
    "def fibonacci(n):\n",
    "    if n == 0:\n",
    "        return 0\n",
    "    x = 0\n",
    "    y = 1\n",
    "    for i in range(1, n):\n",
    "        z = x + y\n",
    "        x = y\n",
    "        y = z\n",
    "    return y\n",
    "\n",
    "# Generar datos\n",
    "n_values = list(range(0, 21))\n",
    "fib_values = [fibonacci(n) for n in n_values]\n",
    "\n",
    "# Gráfica\n",
    "plt.figure(figsize=(8, 6))\n",
    "plt.plot(n_values, fib_values, marker='o', linewidth=2, markersize=6, color='steelblue')\n",
    "plt.xlabel('n', fontsize=12)\n",
    "plt.ylabel('fib(n)', fontsize=12)\n",
    "plt.title('Serie de Fibonacci', fontsize=14, fontweight='bold')\n",
    "plt.grid(True, alpha=0.3)\n",
    "plt.tight_layout()\n",
    "plt.show()"
   ]
  },
  {
   "cell_type": "markdown",
   "id": "3d777788",
   "metadata": {},
   "source": [
    "***Gráfica 2 : valor del cociente***"
   ]
  },
  {
   "cell_type": "code",
   "execution_count": 79,
   "id": "0d4e55f5",
   "metadata": {},
   "outputs": [
    {
     "data": {
      "image/png": "[encoded data removed]",
      "text/plain": [
       "<Figure size 640x480 with 1 Axes>"
      ]
     },
     "metadata": {},
     "output_type": "display_data"
    }
   ],
   "source": [
    "import matplotlib.pyplot as plt\n",
    "\n",
    "# Generar la serie de Fibonacci\n",
    "def fibonacci(n):\n",
    "    fib = [0, 1]\n",
    "    for i in range(2, n):\n",
    "        fib.append(fib[-1] + fib[-2])\n",
    "    return fib\n",
    "\n",
    "# Cantidad de terminos\n",
    "n = 20\n",
    "fib = fibonacci(n)\n",
    "\n",
    "razones = [fib[i] / fib[i - 1] for i in range(2, len(fib))]\n",
    "\n",
    "indices = list(range(2, len(fib)))\n",
    "\n",
    "phi = (1 + 5 ** 0.5) / 2\n",
    "\n",
    "# Graficar las razones y el número áureo\n",
    "plt.figure()\n",
    "plt.plot(indices, razones, marker='o', label='fib(n)/fib(n-1)')\n",
    "plt.axhline(y=phi, color='r', linestyle='--', label='Número áureo (φ)')\n",
    "plt.title('Aproximación al número áureo con la serie de Fibonacci')\n",
    "plt.xlabel('n')\n",
    "plt.ylabel('fib(n) / fib(n-1)')\n",
    "plt.legend()\n",
    "plt.grid(True)\n",
    "plt.show()"
   ]
  },
  {
   "cell_type": "markdown",
   "id": "6a2f517a",
   "metadata": {},
   "source": [
    "## EJERCICIO 4. \n",
    "¿A qué valor converge el algortimo 4?\n",
    "![Ejer2](3.png)"
   ]
  },
  {
   "cell_type": "code",
   "execution_count": null,
   "id": "48f1b573",
   "metadata": {},
   "outputs": [],
   "source": []
  },
  {
   "cell_type": "markdown",
   "id": "a8d77800",
   "metadata": {},
   "source": []
  }
 ],
 "metadata": {
  "kernelspec": {
   "display_name": "Python 3",
   "language": "python",
   "name": "python3"
  },
  "language_info": {
   "codemirror_mode": {
    "name": "ipython",
    "version": 3
   },
   "file_extension": ".py",
   "mimetype": "text/x-python",
   "name": "python",
   "nbconvert_exporter": "python",
   "pygments_lexer": "ipython3",
   "version": "3.13.7"
  }
 },
 "nbformat": 4,
 "nbformat_minor": 5
}
