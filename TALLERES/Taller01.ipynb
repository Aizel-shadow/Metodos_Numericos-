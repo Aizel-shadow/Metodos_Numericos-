{
 "cells": [
  {
   "cell_type": "markdown",
   "id": "325e4ace",
   "metadata": {},
   "source": [
    "# **MÉTODOS NUMÉRICOS 2025-B**\n",
    "\n",
    "\n",
    "\n",
    "### ***TALLER No. 1***      \n",
    "\n",
    "\n",
    "Nombre: Alegria Farinango \n",
    "\n",
    "\n",
    "link repositorio: https://github.com/Aizel-shadow/Metodos_Numericos-/blob/main/TALLERES/Taller01.ipynb\n",
    "\n",
    "\n",
    "\n",
    "---------------------------------------------------------------------------------------\n",
    "\n",
    "## EJERCICIO \n",
    "***Escribir en notación matemática de la ecuación de Navier Stokes***\n",
    "\n",
    "$$\n",
    "\\rho \\left( \n",
    "\\frac{\\partial \\mathbf{u}}{\\partial t} \n",
    "+ (\\mathbf{u} \\cdot \\nabla)\\mathbf{u}\n",
    "\\right)\n",
    "= -\\nabla p + \\mu \\nabla^2 \\mathbf{u} + \\mathbf{f}\n",
    "$$\n",
    "\n",
    "\n",
    "\n",
    "---------------------------------------------------------------------------------------\n",
    "\n",
    "## EJERCICIO 1.\n",
    "***La sumatoria $1 + 1/2 + 1/4 +1/8 ... $ tal que el error absoluto $e_{abs} < 10^{-1}$.***"
   ]
  },
  {
   "cell_type": "code",
   "execution_count": 1,
   "id": "d2dcba90",
   "metadata": {},
   "outputs": [
    {
     "name": "stdout",
     "output_type": "stream",
     "text": [
      "Términos: 5, Suma: 1.937500, Error: 0.062500\n"
     ]
    }
   ],
   "source": [
    "suma = 0\n",
    "n = 0\n",
    "while abs(2 - suma) >= 0.1:\n",
    "    suma += (1/2)**n\n",
    "    n += 1\n",
    "print(f\"Términos: {n}, Suma: {suma:.6f}, Error: {abs(2-suma):.6f}\") "
   ]
  },
  {
   "cell_type": "markdown",
   "id": "9a6214e6",
   "metadata": {},
   "source": [
    "1. Modifique el Algoritmo 02 y determine el número de comparaciones realizadas al ordenar la serie 5,4,3,2,1 "
   ]
  },
  {
   "cell_type": "code",
   "execution_count": 2,
   "id": "1bc3da5b",
   "metadata": {},
   "outputs": [
    {
     "name": "stdout",
     "output_type": "stream",
     "text": [
      "Termino 1: 1.0, Suma parcial: 1.0\n",
      "Suma 1.0, Numero de terminos 1, Error absouluto : 1.0\n",
      "Termino 2: 0.5, Suma parcial: 1.5\n",
      "Suma 1.5, Numero de terminos 2, Error absouluto : 0.5\n",
      "Termino 3: 0.25, Suma parcial: 1.75\n",
      "Suma 1.75, Numero de terminos 3, Error absouluto : 0.25\n",
      "Termino 4: 0.125, Suma parcial: 1.875\n",
      "Suma 1.875, Numero de terminos 4, Error absouluto : 0.125\n",
      "Termino 5: 0.0625, Suma parcial: 1.9375\n"
     ]
    }
   ],
   "source": [
    "v_real = 2 \n",
    "S = 0\n",
    "n = 0 \n",
    "while True: \n",
    "    i = 1 / (2**n)\n",
    "    S += i \n",
    "    n += 1\n",
    "    print(f\"Termino {n}: {i}, Suma parcial: {S}\")\n",
    "    error_abs = abs(v_real - S)\n",
    "    if error_abs < 10**-1: \n",
    "        break\n",
    "    print(f\"Suma {S}, Numero de terminos {n}, Error absouluto : {error_abs}\") "
   ]
  },
  {
   "cell_type": "markdown",
   "id": "517a534f",
   "metadata": {},
   "source": [
    "## EJERCICIO 2. (Bubble sort)\n",
    "![Ejer2](1.png)\n",
    "\n",
    "\n",
    "### Corrida de escritorio\n",
    "$v_1=[3, 2, 5, 8, 4, 1]$\n",
    "\n",
    "| i | Vector |\n",
    "| -- | -- |\n",
    "| 0 | $ [3, 2, 5, 8, 4, 1] $ |\n",
    "| 1 | $ [3, 2, 5, 4, 1, 8] $|\n",
    "| 2 | $ [3, 2, 4, 1, 5, 8] $|\n",
    "| 3 | $ [3, 2, 1, 4, 5, 8] $|\n",
    "...\n",
    "\n",
    "Resultado final:\n",
    "\n",
    "$v_{sorted} = [1,2,3,4,5,8]$\n",
    "\n",
    "Casos de prueba:\n",
    "* $v_2=[-1, 0, 4, 5, 6, 7]$\n",
    "* $v_3$ 100_000 número aleatorios entre -200 y 145. "
   ]
  },
  {
   "cell_type": "code",
   "execution_count": 3,
   "id": "a1b38da9",
   "metadata": {},
   "outputs": [
    {
     "name": "stdout",
     "output_type": "stream",
     "text": [
      "Caso 1: [3, 2, 5, 8, 4, 1]\n",
      "Ordenado: [1, 2, 3, 4, 5, 8]\n",
      "\n",
      "Caso 2: [-1, 0, 4, 5, 6, 7]\n",
      "Ordenado: [-1, 0, 4, 5, 6, 7]\n",
      "\n",
      "Caso 3: 1,000 num aleatorios\n",
      "Primeros 10: [129, -170, -15, -32, -131, -186, -112, 84, 31, -51]\n",
      "Ordenados: [-199, -199, -198, -198, -198, -197, -196, -196, -196, -196]\n"
     ]
    }
   ],
   "source": [
    "import random\n",
    "\n",
    "def bubble_sort(a):\n",
    "    n = len(a)\n",
    "    for i in range(n):\n",
    "        swapped = False\n",
    "        for j in range(1, n - i):\n",
    "            if a[j] < a[j-1]:\n",
    "                a[j], a[j-1] = a[j-1], a[j]\n",
    "                swapped = True\n",
    "        if not swapped:\n",
    "            break\n",
    "\n",
    "# Caso 1\n",
    "v1 = [3, 2, 5, 8, 4, 1]\n",
    "print(\"Caso 1:\", v1)\n",
    "bubble_sort(v1)\n",
    "print(\"Ordenado:\", v1)\n",
    "\n",
    "# Caso 2\n",
    "v2 = [-1, 0, 4, 5, 6, 7]\n",
    "print(\"\\nCaso 2:\", v2)\n",
    "bubble_sort(v2)\n",
    "print(\"Ordenado:\", v2)\n",
    "\n",
    "# Caso 3 (reducido a 1000 elementos para que sea rápido)\n",
    "v3 = [random.randint(-200, 145) for _ in range(1000)]\n",
    "print(\"\\nCaso 3: 1,000 num aleatorios\")\n",
    "print(\"Primeros 10:\", v3[:10])\n",
    "bubble_sort(v3)\n",
    "print(\"Ordenados:\", v3[:10])\n"
   ]
  },
  {
   "cell_type": "markdown",
   "id": "c2dad405",
   "metadata": {},
   "source": [
    "1. Modifique el Algoritmo 02 y determine el número de comparaciones realizadas al ordenar la serie 5,4,3,2,1 "
   ]
  },
  {
   "cell_type": "code",
   "execution_count": 4,
   "id": "b4e8e73b",
   "metadata": {},
   "outputs": [
    {
     "name": "stdout",
     "output_type": "stream",
     "text": [
      "SERIE SOLICITADA: [5, 4, 3, 2, 1]\n",
      "Array original: [5, 4, 3, 2, 1]\n",
      "Array ordenado: [1, 2, 3, 4, 5]\n",
      "\n",
      "número comparaciones: 10\n",
      "número iteraciones: 5\n"
     ]
    }
   ],
   "source": [
    "import random\n",
    "\n",
    "def bubble_sort(a):\n",
    "    n = len(a)\n",
    "    comparisons = 0  \n",
    "    iterations = 0   \n",
    "    \n",
    "    for i in range(n):\n",
    "        iterations += 1\n",
    "        swapped = False\n",
    "        for j in range(1, n - i):\n",
    "            comparisons += 1  \n",
    "            if a[j] < a[j-1]:\n",
    "                a[j], a[j-1] = a[j-1], a[j]\n",
    "                swapped = True\n",
    "        if not swapped:\n",
    "            break\n",
    "    \n",
    "    return comparisons, iterations\n",
    "\n",
    "# Serie específica solicitada: [5,4,3,2,1]\n",
    "\n",
    "print(\"SERIE SOLICITADA: [5, 4, 3, 2, 1]\")\n",
    "\n",
    "v_especial = [5, 4, 3, 2, 1]\n",
    "print(\"Array original:\", v_especial)\n",
    "comps, iters = bubble_sort(v_especial)\n",
    "print(\"Array ordenado:\", v_especial)\n",
    "print(f\"\\nnúmero comparaciones: {comps}\")\n",
    "print(f\"número iteraciones: {iters}\")\n",
    "\n",
    "\n",
    "\n"
   ]
  },
  {
   "cell_type": "code",
   "execution_count": 5,
   "id": "4c7484d8",
   "metadata": {},
   "outputs": [
    {
     "name": "stdout",
     "output_type": "stream",
     "text": [
      "\n",
      "\n",
      "Caso 1: [3, 2, 5, 8, 4, 1]\n",
      "Original: [3, 2, 5, 8, 4, 1]\n",
      "Ordenado: [1, 2, 3, 4, 5, 8]\n",
      "Comparaciones: 15, Iteraciones: 6\n"
     ]
    }
   ],
   "source": [
    "# Caso 1\n",
    "print(\"\\n\\nCaso 1: [3, 2, 5, 8, 4, 1]\")\n",
    "v1 = [3, 2, 5, 8, 4, 1]\n",
    "print(\"Original:\", v1)\n",
    "comps1, iters1 = bubble_sort(v1)\n",
    "print(\"Ordenado:\", v1)\n",
    "print(f\"Comparaciones: {comps1}, Iteraciones: {iters1}\")\n"
   ]
  },
  {
   "cell_type": "code",
   "execution_count": 6,
   "id": "c4ec8e33",
   "metadata": {},
   "outputs": [
    {
     "name": "stdout",
     "output_type": "stream",
     "text": [
      "\n",
      "Caso 2: [-1, 0, 4, 5, 6, 7]\n",
      "Original: [-1, 0, 4, 5, 6, 7]\n",
      "Ordenado: [-1, 0, 4, 5, 6, 7]\n",
      "Comparaciones: 5, Iteraciones: 1\n"
     ]
    }
   ],
   "source": [
    "# Caso 2\n",
    "print(\"\\nCaso 2: [-1, 0, 4, 5, 6, 7]\")\n",
    "v2 = [-1, 0, 4, 5, 6, 7]\n",
    "print(\"Original:\", v2)\n",
    "comps2, iters2 = bubble_sort(v2)\n",
    "print(\"Ordenado:\", v2)\n",
    "print(f\"Comparaciones: {comps2}, Iteraciones: {iters2}\")"
   ]
  },
  {
   "cell_type": "code",
   "execution_count": 7,
   "id": "eab7743a",
   "metadata": {},
   "outputs": [
    {
     "name": "stdout",
     "output_type": "stream",
     "text": [
      "\n",
      "Caso 3: 1,000 números aleatorios\n",
      "Primeros 10: [28, -58, -61, -20, -119, -30, 120, 104, -7, -194]\n",
      "Ordenados (primeros 10): [-200, -200, -200, -200, -199, -199, -199, -198, -197, -197]\n",
      "Comparaciones: 498225, Iteraciones: 949\n"
     ]
    }
   ],
   "source": [
    "# Caso 3 (reducido a 1000 elementos)\n",
    "v3 = [random.randint(-200, 145) for _ in range(1000)]\n",
    "print(\"\\nCaso 3: 1,000 números aleatorios\")\n",
    "print(\"Primeros 10:\", v3[:10])\n",
    "comps3, iters3 = bubble_sort(v3)\n",
    "print(\"Ordenados (primeros 10):\", v3[:10])\n",
    "print(f\"Comparaciones: {comps3}, Iteraciones: {iters3}\")"
   ]
  },
  {
   "cell_type": "markdown",
   "id": "4155aa0e",
   "metadata": {},
   "source": [
    "## EJERCICIO 3. (Bubble sort)\n",
    "![Ejer3](2.png) \n",
    "\n",
    "\n",
    "| n | fib(n) |\n",
    "| -- | -- |\n",
    "| 0 | 0 |\n",
    "| 1 | 1 |\n",
    "| 2 | 1 |\n",
    "| 3 | 2 |\n",
    "| 4 | 3 |\n",
    "| 5 | 5 |\n",
    "| 6 | 8 |\n",
    "| 7 | 13 |\n",
    "| 8 | 21 |\n",
    "|$n = 11 $ | 89 |\n",
    "|$n = 84 $ | 16050... |\n",
    "|$n = 1531$ | 407936... |"
   ]
  },
  {
   "cell_type": "markdown",
   "id": "ff9ceed0",
   "metadata": {},
   "source": [
    "## Graficar \n",
    "\n",
    "* El valor de la serie $fib(n)$\n",
    "* El valor del cociente \n",
    "\n",
    "    $\\phi \\rightarrow \\frac{fib(n)} {fib(n-1)} \\approx 1.618$ número áureo.\n",
    "\n",
    "\n",
    "| n | $ fib(n) /fib(n-1) $ |\n",
    "| -- | -- |\n",
    "| 2 | $1/1=1 $ |\n",
    "| 3 | $2/1 = 2$ |\n",
    "| 4 | $3/2 = 1.5$ |\n",
    "| 5 | $5/3= 1.66667$ |\n",
    "| 6 | $8/5= 1.6$ |\n",
    "| 7 | $13/8 = 1.625 $ |\n",
    "| 8 | $21/13 = 1.615 $ |\n",
    "| ... | ... |\n",
    "\n",
    "\n",
    "|$\\infty $ | $ \\frac{1 + \\sqrt{5}} {2} \\approx 1.618$ (número áureo) |\n",
    "\n",
    "***Gráfica 1 : valor de la serie $fib(n)$***"
   ]
  },
  {
   "cell_type": "markdown",
   "id": "eb6ff775",
   "metadata": {},
   "source": [
    "ALGORITMO 03 \n",
    "![Ejer3](4.png)\n"
   ]
  },
  {
   "cell_type": "code",
   "execution_count": 8,
   "id": "d2865fba",
   "metadata": {},
   "outputs": [
    {
     "name": "stdout",
     "output_type": "stream",
     "text": [
      "Valor objetivo: 1.3660254037844386\n",
      "n = 2: fb(2) = 1, fb(1) = 1, ratio = 1.000000, error = 0.2679491924\n",
      "n = 3: fb(3) = 2, fb(2) = 1, ratio = 2.000000, error = 0.4641016151\n",
      "n = 4: fb(4) = 3, fb(3) = 2, ratio = 1.500000, error = 0.0980762114\n",
      "n = 5: fb(5) = 5, fb(4) = 3, ratio = 1.666667, error = 0.2200846793\n",
      "n = 6: fb(6) = 8, fb(5) = 5, ratio = 1.600000, error = 0.1712812921\n",
      "n = 7: fb(7) = 13, fb(6) = 8, ratio = 1.625000, error = 0.1895825623\n",
      "n = 8: fb(8) = 21, fb(7) = 13, ratio = 1.615385, error = 0.1825436122\n",
      "n = 9: fb(9) = 34, fb(8) = 21, ratio = 1.619048, error = 0.1852251170\n",
      "n = 10: fb(10) = 55, fb(9) = 34, ratio = 1.617647, error = 0.1841998358\n",
      "n = 11: fb(11) = 89, fb(10) = 55, ratio = 1.618182, error = 0.1845913068\n",
      "n = 12: fb(12) = 144, fb(11) = 89, ratio = 1.617978, error = 0.1844417561\n",
      "n = 13: fb(13) = 233, fb(12) = 144, ratio = 1.618056, error = 0.1844988761\n",
      "n = 14: fb(14) = 377, fb(13) = 233, ratio = 1.618026, error = 0.1844770577\n",
      "n = 15: fb(15) = 610, fb(14) = 377, ratio = 1.618037, error = 0.1844853916\n",
      "n = 16: fb(16) = 987, fb(15) = 610, ratio = 1.618033, error = 0.1844822083\n",
      "n = 17: fb(17) = 1597, fb(16) = 987, ratio = 1.618034, error = 0.1844834242\n",
      "n = 18: fb(18) = 2584, fb(17) = 1597, ratio = 1.618034, error = 0.1844829598\n",
      "n = 19: fb(19) = 4181, fb(18) = 2584, ratio = 1.618034, error = 0.1844831372\n",
      "n = 20: fb(20) = 6765, fb(19) = 4181, ratio = 1.618034, error = 0.1844830694\n",
      "n = 21: fb(21) = 10946, fb(20) = 6765, ratio = 1.618034, error = 0.1844830953\n",
      "n = 22: fb(22) = 17711, fb(21) = 10946, ratio = 1.618034, error = 0.1844830854\n",
      "n = 23: fb(23) = 28657, fb(22) = 17711, ratio = 1.618034, error = 0.1844830892\n",
      "n = 24: fb(24) = 46368, fb(23) = 28657, ratio = 1.618034, error = 0.1844830877\n",
      "n = 25: fb(25) = 75025, fb(24) = 46368, ratio = 1.618034, error = 0.1844830883\n",
      "n = 26: fb(26) = 121393, fb(25) = 75025, ratio = 1.618034, error = 0.1844830881\n",
      "n = 27: fb(27) = 196418, fb(26) = 121393, ratio = 1.618034, error = 0.1844830882\n",
      "n = 28: fb(28) = 317811, fb(27) = 196418, ratio = 1.618034, error = 0.1844830881\n",
      "n = 29: fb(29) = 514229, fb(28) = 317811, ratio = 1.618034, error = 0.1844830881\n",
      "n = 30: fb(30) = 832040, fb(29) = 514229, ratio = 1.618034, error = 0.1844830881\n",
      "n = 31: fb(31) = 1346269, fb(30) = 832040, ratio = 1.618034, error = 0.1844830881\n",
      "n = 32: fb(32) = 2178309, fb(31) = 1346269, ratio = 1.618034, error = 0.1844830881\n",
      "n = 33: fb(33) = 3524578, fb(32) = 2178309, ratio = 1.618034, error = 0.1844830881\n",
      "n = 34: fb(34) = 5702887, fb(33) = 3524578, ratio = 1.618034, error = 0.1844830881\n",
      "n = 35: fb(35) = 9227465, fb(34) = 5702887, ratio = 1.618034, error = 0.1844830881\n",
      "n = 36: fb(36) = 14930352, fb(35) = 9227465, ratio = 1.618034, error = 0.1844830881\n",
      "n = 37: fb(37) = 24157817, fb(36) = 14930352, ratio = 1.618034, error = 0.1844830881\n",
      "n = 38: fb(38) = 39088169, fb(37) = 24157817, ratio = 1.618034, error = 0.1844830881\n",
      "n = 39: fb(39) = 63245986, fb(38) = 39088169, ratio = 1.618034, error = 0.1844830881\n",
      "n = 40: fb(40) = 102334155, fb(39) = 63245986, ratio = 1.618034, error = 0.1844830881\n",
      "n = 41: fb(41) = 165580141, fb(40) = 102334155, ratio = 1.618034, error = 0.1844830881\n",
      "n = 42: fb(42) = 267914296, fb(41) = 165580141, ratio = 1.618034, error = 0.1844830881\n",
      "n = 43: fb(43) = 433494437, fb(42) = 267914296, ratio = 1.618034, error = 0.1844830881\n",
      "n = 44: fb(44) = 701408733, fb(43) = 433494437, ratio = 1.618034, error = 0.1844830881\n",
      "n = 45: fb(45) = 1134903170, fb(44) = 701408733, ratio = 1.618034, error = 0.1844830881\n",
      "n = 46: fb(46) = 1836311903, fb(45) = 1134903170, ratio = 1.618034, error = 0.1844830881\n",
      "n = 47: fb(47) = 2971215073, fb(46) = 1836311903, ratio = 1.618034, error = 0.1844830881\n",
      "n = 48: fb(48) = 4807526976, fb(47) = 2971215073, ratio = 1.618034, error = 0.1844830881\n",
      "n = 49: fb(49) = 7778742049, fb(48) = 4807526976, ratio = 1.618034, error = 0.1844830881\n",
      "n = 50: fb(50) = 12586269025, fb(49) = 7778742049, ratio = 1.618034, error = 0.1844830881\n"
     ]
    }
   ],
   "source": [
    "import math\n",
    "\n",
    "# Algoritmo 03 (Fibonacci)\n",
    "def fb(n):\n",
    "    if n == 0:\n",
    "        return 0\n",
    "    else:\n",
    "        x = 0\n",
    "        y = 1\n",
    "        for i in range(1, n):\n",
    "            s = x + y\n",
    "            x = y\n",
    "            y = s\n",
    "        return y\n",
    "\n",
    "# Valor objetivo\n",
    "objetivo = (1 + math.sqrt(3)) / 2\n",
    "print(f\"Valor objetivo: {objetivo}\")\n",
    "\n",
    "# Buscar iteraciON donde error < 10^-5\n",
    "n = 2\n",
    "while True:\n",
    "    y_actual = fb(n)\n",
    "    y_anterior = fb(n-1)\n",
    "    \n",
    "    if y_anterior != 0:\n",
    "        error = abs(y_actual / y_anterior - objetivo) / objetivo\n",
    "        print(f\"n = {n}: fb({n}) = {y_actual}, fb({n-1}) = {y_anterior}, ratio = {y_actual/y_anterior:.6f}, error = {error:.10f}\")\n",
    "        \n",
    "        if error < 1e-5:\n",
    "            print(f\"\\n✓ Iteración encontrada: n = {n}\")\n",
    "            print(f\"Error relativo: {error:.10e}\")\n",
    "            break\n",
    "    \n",
    "    n += 1\n",
    "    if n > 50: \n",
    "        break"
   ]
  },
  {
   "cell_type": "code",
   "execution_count": 9,
   "id": "2c9c1119",
   "metadata": {},
   "outputs": [
    {
     "data": {
      "image/png": "[encoded data removed]",
      "text/plain": [
       "<Figure size 800x600 with 1 Axes>"
      ]
     },
     "metadata": {},
     "output_type": "display_data"
    }
   ],
   "source": [
    "import matplotlib.pyplot as plt\n",
    "\n",
    "def fibonacci(n):\n",
    "    if n == 0:\n",
    "        return 0\n",
    "    x = 0\n",
    "    y = 1\n",
    "    for i in range(1, n):\n",
    "        z = x + y\n",
    "        x = y\n",
    "        y = z\n",
    "    return y\n",
    "\n",
    "# Generar datos\n",
    "n_values = list(range(0, 21))\n",
    "fib_values = [fibonacci(n) for n in n_values]\n",
    "\n",
    "# Gráfica\n",
    "plt.figure(figsize=(8, 6))\n",
    "plt.plot(n_values, fib_values, marker='o', linewidth=2, markersize=6, color='steelblue')\n",
    "plt.xlabel('n', fontsize=12)\n",
    "plt.ylabel('fib(n)', fontsize=12)\n",
    "plt.title('Serie de Fibonacci', fontsize=14, fontweight='bold')\n",
    "plt.grid(True, alpha=0.3)\n",
    "plt.tight_layout()\n",
    "plt.show()"
   ]
  },
  {
   "cell_type": "markdown",
   "id": "3d777788",
   "metadata": {},
   "source": [
    "***Gráfica 2 : valor del cociente***"
   ]
  },
  {
   "cell_type": "code",
   "execution_count": 10,
   "id": "0d4e55f5",
   "metadata": {},
   "outputs": [
    {
     "data": {
      "image/png": "[encoded data removed]",
      "text/plain": [
       "<Figure size 640x480 with 1 Axes>"
      ]
     },
     "metadata": {},
     "output_type": "display_data"
    }
   ],
   "source": [
    "import matplotlib.pyplot as plt\n",
    "\n",
    "# Generar la serie de Fibonacci\n",
    "def fibonacci(n):\n",
    "    fib = [0, 1]\n",
    "    for i in range(2, n):\n",
    "        fib.append(fib[-1] + fib[-2])\n",
    "    return fib\n",
    "\n",
    "# Cantidad de terminos\n",
    "n = 20\n",
    "fib = fibonacci(n)\n",
    "\n",
    "razones = [fib[i] / fib[i - 1] for i in range(2, len(fib))]\n",
    "\n",
    "indices = list(range(2, len(fib)))\n",
    "\n",
    "phi = (1 + 5 ** 0.5) / 2\n",
    "\n",
    "# Graficar las razones y el número áureo\n",
    "plt.figure()\n",
    "plt.plot(indices, razones, marker='o', label='fib(n)/fib(n-1)')\n",
    "plt.axhline(y=phi, color='r', linestyle='--', label='Número áureo (φ)')\n",
    "plt.title('Aproximación al número áureo con la serie de Fibonacci')\n",
    "plt.xlabel('n')\n",
    "plt.ylabel('fib(n) / fib(n-1)')\n",
    "plt.legend()\n",
    "plt.grid(True)\n",
    "plt.show()"
   ]
  },
  {
   "cell_type": "markdown",
   "id": "6a2f517a",
   "metadata": {},
   "source": [
    "## EJERCICIO 4. \n",
    "![Ejer2](3.png)"
   ]
  },
  {
   "cell_type": "code",
   "execution_count": 11,
   "id": "922ceed8",
   "metadata": {},
   "outputs": [
    {
     "data": {
      "image/png": "[encoded data removed]",
      "text/plain": [
       "<Figure size 1000x600 with 1 Axes>"
      ]
     },
     "metadata": {},
     "output_type": "display_data"
    },
    {
     "name": "stdout",
     "output_type": "stream",
     "text": [
      "Valor final con 100 términos: 5.187378\n"
     ]
    }
   ],
   "source": [
    "import matplotlib.pyplot as plt\n",
    "\n",
    "def serie_geometrica(n_max=100):\n",
    "    n_values = list(range(1, n_max + 1))\n",
    "    suma_parcial = []\n",
    "    suma = 0\n",
    "    \n",
    "    for n in n_values:\n",
    "        suma += 1/n\n",
    "        suma_parcial.append(suma)\n",
    "    \n",
    "    return n_values, suma_parcial\n",
    "\n",
    "# Calcular la serie\n",
    "n_values, suma_parcial = serie_geometrica(100)\n",
    "\n",
    "# Crear gráfica\n",
    "plt.figure(figsize=(10, 6))\n",
    "plt.plot(n_values, suma_parcial, 'b-', linewidth=2)\n",
    "plt.xlabel('n (número de términos)', fontsize=12)\n",
    "plt.ylabel('Suma parcial', fontsize=12)\n",
    "plt.title('Serie: Σ(1/n) desde n=1 hasta n=100', fontsize=14)\n",
    "plt.grid(True, alpha=0.3)\n",
    "plt.show()\n",
    "\n",
    "print(f\"Valor final con 100 términos: {suma_parcial[-1]:.6f}\")"
   ]
  },
  {
   "cell_type": "code",
   "execution_count": null,
   "id": "48f1b573",
   "metadata": {},
   "outputs": [],
   "source": []
  },
  {
   "cell_type": "markdown",
   "id": "a8d77800",
   "metadata": {},
   "source": []
  }
 ],
 "metadata": {
  "kernelspec": {
   "display_name": "Python 3",
   "language": "python",
   "name": "python3"
  },
  "language_info": {
   "codemirror_mode": {
    "name": "ipython",
    "version": 3
   },
   "file_extension": ".py",
   "mimetype": "text/x-python",
   "name": "python",
   "nbconvert_exporter": "python",
   "pygments_lexer": "ipython3",
   "version": "3.13.7"
  }
 },
 "nbformat": 4,
 "nbformat_minor": 5
}
